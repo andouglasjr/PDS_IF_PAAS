{
  "nbformat": 4,
  "nbformat_minor": 0,
  "metadata": {
    "colab": {
      "name": "Atividade_MVC.ipynb",
      "provenance": [],
      "authorship_tag": "ABX9TyN44Jozwo0ivvpmkXZWXowP",
      "include_colab_link": true
    },
    "kernelspec": {
      "name": "python3",
      "display_name": "Python 3"
    },
    "language_info": {
      "name": "python"
    }
  },
  "cells": [
    {
      "cell_type": "markdown",
      "metadata": {
        "id": "view-in-github",
        "colab_type": "text"
      },
      "source": [
        "<a href=\"https://colab.research.google.com/github/andouglasjr/PDS_IF_PAAS/blob/main/Atividade_MVC.ipynb\" target=\"_parent\"><img src=\"https://colab.research.google.com/assets/colab-badge.svg\" alt=\"Open In Colab\"/></a>"
      ]
    },
    {
      "cell_type": "markdown",
      "source": [
        "#Atividade Avaliativa\n",
        "\n",
        "Você e sua equipe estão desenvolvendo um sistema de acesso. Basicamente, a ideia do sistema é criar uma interface biométrica para que os funcionários de uma empresa possam entrar no edifício de trabalho, marcando a hora de entra e saída.\n",
        "\n",
        "Depois das fases iniciais de requisito e análise, vocês definiram que utilizarão o MVC como Arquitetura de Software. "
      ],
      "metadata": {
        "id": "t3Iu5t3WxuW1"
      }
    },
    {
      "cell_type": "markdown",
      "source": [
        "# Dados do Grupo\n",
        "Inserir aqui os nomes dos integrantes do grupo.\n",
        "- João\n",
        "- Maria\n"
      ],
      "metadata": {
        "id": "uo0EK8hG9Ou4"
      }
    },
    {
      "cell_type": "markdown",
      "source": [
        "## Requisitos\n",
        "\n",
        "O sistema precisa ser capaz de \n",
        "- Cadastrar, Atualizar, Ler e Deletar funcionários;\n",
        "- Cadastrar horário de entrada e horário de saída dos funcionários;\n",
        "\n",
        "O Banco de Dados para essa aplicação já foi projetado e desenvolvido por outra equipe de software. A tabela \"Employee\" é apresentada a seguir. "
      ],
      "metadata": {
        "id": "fBXPoYx0zkgh"
      }
    },
    {
      "cell_type": "code",
      "execution_count": null,
      "metadata": {
        "colab": {
          "base_uri": "https://localhost:8080/",
          "height": 144
        },
        "id": "0MgdrDhPxtrI",
        "outputId": "5ca2ea0d-0dfe-437b-a894-5419684e3fc2"
      },
      "outputs": [
        {
          "output_type": "display_data",
          "data": {
            "text/plain": [
              "    id  name departament     role\n",
              "0  123  João  Financeiro  Diretor"
            ],
            "text/html": [
              "\n",
              "  <div id=\"df-b3f22fae-c25c-41f9-b40f-a930b2707080\">\n",
              "    <div class=\"colab-df-container\">\n",
              "      <div>\n",
              "<style scoped>\n",
              "    .dataframe tbody tr th:only-of-type {\n",
              "        vertical-align: middle;\n",
              "    }\n",
              "\n",
              "    .dataframe tbody tr th {\n",
              "        vertical-align: top;\n",
              "    }\n",
              "\n",
              "    .dataframe thead th {\n",
              "        text-align: right;\n",
              "    }\n",
              "</style>\n",
              "<table border=\"1\" class=\"dataframe\">\n",
              "  <thead>\n",
              "    <tr style=\"text-align: right;\">\n",
              "      <th></th>\n",
              "      <th>id</th>\n",
              "      <th>name</th>\n",
              "      <th>departament</th>\n",
              "      <th>role</th>\n",
              "    </tr>\n",
              "  </thead>\n",
              "  <tbody>\n",
              "    <tr>\n",
              "      <th>0</th>\n",
              "      <td>123</td>\n",
              "      <td>João</td>\n",
              "      <td>Financeiro</td>\n",
              "      <td>Diretor</td>\n",
              "    </tr>\n",
              "  </tbody>\n",
              "</table>\n",
              "</div>\n",
              "      <button class=\"colab-df-convert\" onclick=\"convertToInteractive('df-b3f22fae-c25c-41f9-b40f-a930b2707080')\"\n",
              "              title=\"Convert this dataframe to an interactive table.\"\n",
              "              style=\"display:none;\">\n",
              "        \n",
              "  <svg xmlns=\"http://www.w3.org/2000/svg\" height=\"24px\"viewBox=\"0 0 24 24\"\n",
              "       width=\"24px\">\n",
              "    <path d=\"M0 0h24v24H0V0z\" fill=\"none\"/>\n",
              "    <path d=\"M18.56 5.44l.94 2.06.94-2.06 2.06-.94-2.06-.94-.94-2.06-.94 2.06-2.06.94zm-11 1L8.5 8.5l.94-2.06 2.06-.94-2.06-.94L8.5 2.5l-.94 2.06-2.06.94zm10 10l.94 2.06.94-2.06 2.06-.94-2.06-.94-.94-2.06-.94 2.06-2.06.94z\"/><path d=\"M17.41 7.96l-1.37-1.37c-.4-.4-.92-.59-1.43-.59-.52 0-1.04.2-1.43.59L10.3 9.45l-7.72 7.72c-.78.78-.78 2.05 0 2.83L4 21.41c.39.39.9.59 1.41.59.51 0 1.02-.2 1.41-.59l7.78-7.78 2.81-2.81c.8-.78.8-2.07 0-2.86zM5.41 20L4 18.59l7.72-7.72 1.47 1.35L5.41 20z\"/>\n",
              "  </svg>\n",
              "      </button>\n",
              "      \n",
              "  <style>\n",
              "    .colab-df-container {\n",
              "      display:flex;\n",
              "      flex-wrap:wrap;\n",
              "      gap: 12px;\n",
              "    }\n",
              "\n",
              "    .colab-df-convert {\n",
              "      background-color: #E8F0FE;\n",
              "      border: none;\n",
              "      border-radius: 50%;\n",
              "      cursor: pointer;\n",
              "      display: none;\n",
              "      fill: #1967D2;\n",
              "      height: 32px;\n",
              "      padding: 0 0 0 0;\n",
              "      width: 32px;\n",
              "    }\n",
              "\n",
              "    .colab-df-convert:hover {\n",
              "      background-color: #E2EBFA;\n",
              "      box-shadow: 0px 1px 2px rgba(60, 64, 67, 0.3), 0px 1px 3px 1px rgba(60, 64, 67, 0.15);\n",
              "      fill: #174EA6;\n",
              "    }\n",
              "\n",
              "    [theme=dark] .colab-df-convert {\n",
              "      background-color: #3B4455;\n",
              "      fill: #D2E3FC;\n",
              "    }\n",
              "\n",
              "    [theme=dark] .colab-df-convert:hover {\n",
              "      background-color: #434B5C;\n",
              "      box-shadow: 0px 1px 3px 1px rgba(0, 0, 0, 0.15);\n",
              "      filter: drop-shadow(0px 1px 2px rgba(0, 0, 0, 0.3));\n",
              "      fill: #FFFFFF;\n",
              "    }\n",
              "  </style>\n",
              "\n",
              "      <script>\n",
              "        const buttonEl =\n",
              "          document.querySelector('#df-b3f22fae-c25c-41f9-b40f-a930b2707080 button.colab-df-convert');\n",
              "        buttonEl.style.display =\n",
              "          google.colab.kernel.accessAllowed ? 'block' : 'none';\n",
              "\n",
              "        async function convertToInteractive(key) {\n",
              "          const element = document.querySelector('#df-b3f22fae-c25c-41f9-b40f-a930b2707080');\n",
              "          const dataTable =\n",
              "            await google.colab.kernel.invokeFunction('convertToInteractive',\n",
              "                                                     [key], {});\n",
              "          if (!dataTable) return;\n",
              "\n",
              "          const docLinkHtml = 'Like what you see? Visit the ' +\n",
              "            '<a target=\"_blank\" href=https://colab.research.google.com/notebooks/data_table.ipynb>data table notebook</a>'\n",
              "            + ' to learn more about interactive tables.';\n",
              "          element.innerHTML = '';\n",
              "          dataTable['output_type'] = 'display_data';\n",
              "          await google.colab.output.renderOutput(dataTable, element);\n",
              "          const docLink = document.createElement('div');\n",
              "          docLink.innerHTML = docLinkHtml;\n",
              "          element.appendChild(docLink);\n",
              "        }\n",
              "      </script>\n",
              "    </div>\n",
              "  </div>\n",
              "  "
            ]
          },
          "metadata": {}
        },
        {
          "output_type": "display_data",
          "data": {
            "text/plain": [
              "   id  employee_id         day         time_in        time_out\n",
              "0   1          123  08-23-2022  [08:00, 12:00]  [14:00, 18:00]"
            ],
            "text/html": [
              "\n",
              "  <div id=\"df-2ad090f2-59cf-4287-b5f8-eee2c944b840\">\n",
              "    <div class=\"colab-df-container\">\n",
              "      <div>\n",
              "<style scoped>\n",
              "    .dataframe tbody tr th:only-of-type {\n",
              "        vertical-align: middle;\n",
              "    }\n",
              "\n",
              "    .dataframe tbody tr th {\n",
              "        vertical-align: top;\n",
              "    }\n",
              "\n",
              "    .dataframe thead th {\n",
              "        text-align: right;\n",
              "    }\n",
              "</style>\n",
              "<table border=\"1\" class=\"dataframe\">\n",
              "  <thead>\n",
              "    <tr style=\"text-align: right;\">\n",
              "      <th></th>\n",
              "      <th>id</th>\n",
              "      <th>employee_id</th>\n",
              "      <th>day</th>\n",
              "      <th>time_in</th>\n",
              "      <th>time_out</th>\n",
              "    </tr>\n",
              "  </thead>\n",
              "  <tbody>\n",
              "    <tr>\n",
              "      <th>0</th>\n",
              "      <td>1</td>\n",
              "      <td>123</td>\n",
              "      <td>08-23-2022</td>\n",
              "      <td>[08:00, 12:00]</td>\n",
              "      <td>[14:00, 18:00]</td>\n",
              "    </tr>\n",
              "  </tbody>\n",
              "</table>\n",
              "</div>\n",
              "      <button class=\"colab-df-convert\" onclick=\"convertToInteractive('df-2ad090f2-59cf-4287-b5f8-eee2c944b840')\"\n",
              "              title=\"Convert this dataframe to an interactive table.\"\n",
              "              style=\"display:none;\">\n",
              "        \n",
              "  <svg xmlns=\"http://www.w3.org/2000/svg\" height=\"24px\"viewBox=\"0 0 24 24\"\n",
              "       width=\"24px\">\n",
              "    <path d=\"M0 0h24v24H0V0z\" fill=\"none\"/>\n",
              "    <path d=\"M18.56 5.44l.94 2.06.94-2.06 2.06-.94-2.06-.94-.94-2.06-.94 2.06-2.06.94zm-11 1L8.5 8.5l.94-2.06 2.06-.94-2.06-.94L8.5 2.5l-.94 2.06-2.06.94zm10 10l.94 2.06.94-2.06 2.06-.94-2.06-.94-.94-2.06-.94 2.06-2.06.94z\"/><path d=\"M17.41 7.96l-1.37-1.37c-.4-.4-.92-.59-1.43-.59-.52 0-1.04.2-1.43.59L10.3 9.45l-7.72 7.72c-.78.78-.78 2.05 0 2.83L4 21.41c.39.39.9.59 1.41.59.51 0 1.02-.2 1.41-.59l7.78-7.78 2.81-2.81c.8-.78.8-2.07 0-2.86zM5.41 20L4 18.59l7.72-7.72 1.47 1.35L5.41 20z\"/>\n",
              "  </svg>\n",
              "      </button>\n",
              "      \n",
              "  <style>\n",
              "    .colab-df-container {\n",
              "      display:flex;\n",
              "      flex-wrap:wrap;\n",
              "      gap: 12px;\n",
              "    }\n",
              "\n",
              "    .colab-df-convert {\n",
              "      background-color: #E8F0FE;\n",
              "      border: none;\n",
              "      border-radius: 50%;\n",
              "      cursor: pointer;\n",
              "      display: none;\n",
              "      fill: #1967D2;\n",
              "      height: 32px;\n",
              "      padding: 0 0 0 0;\n",
              "      width: 32px;\n",
              "    }\n",
              "\n",
              "    .colab-df-convert:hover {\n",
              "      background-color: #E2EBFA;\n",
              "      box-shadow: 0px 1px 2px rgba(60, 64, 67, 0.3), 0px 1px 3px 1px rgba(60, 64, 67, 0.15);\n",
              "      fill: #174EA6;\n",
              "    }\n",
              "\n",
              "    [theme=dark] .colab-df-convert {\n",
              "      background-color: #3B4455;\n",
              "      fill: #D2E3FC;\n",
              "    }\n",
              "\n",
              "    [theme=dark] .colab-df-convert:hover {\n",
              "      background-color: #434B5C;\n",
              "      box-shadow: 0px 1px 3px 1px rgba(0, 0, 0, 0.15);\n",
              "      filter: drop-shadow(0px 1px 2px rgba(0, 0, 0, 0.3));\n",
              "      fill: #FFFFFF;\n",
              "    }\n",
              "  </style>\n",
              "\n",
              "      <script>\n",
              "        const buttonEl =\n",
              "          document.querySelector('#df-2ad090f2-59cf-4287-b5f8-eee2c944b840 button.colab-df-convert');\n",
              "        buttonEl.style.display =\n",
              "          google.colab.kernel.accessAllowed ? 'block' : 'none';\n",
              "\n",
              "        async function convertToInteractive(key) {\n",
              "          const element = document.querySelector('#df-2ad090f2-59cf-4287-b5f8-eee2c944b840');\n",
              "          const dataTable =\n",
              "            await google.colab.kernel.invokeFunction('convertToInteractive',\n",
              "                                                     [key], {});\n",
              "          if (!dataTable) return;\n",
              "\n",
              "          const docLinkHtml = 'Like what you see? Visit the ' +\n",
              "            '<a target=\"_blank\" href=https://colab.research.google.com/notebooks/data_table.ipynb>data table notebook</a>'\n",
              "            + ' to learn more about interactive tables.';\n",
              "          element.innerHTML = '';\n",
              "          dataTable['output_type'] = 'display_data';\n",
              "          await google.colab.output.renderOutput(dataTable, element);\n",
              "          const docLink = document.createElement('div');\n",
              "          docLink.innerHTML = docLinkHtml;\n",
              "          element.appendChild(docLink);\n",
              "        }\n",
              "      </script>\n",
              "    </div>\n",
              "  </div>\n",
              "  "
            ]
          },
          "metadata": {}
        }
      ],
      "source": [
        "#Rode essa célula para visualizar a estrutura da tabela Empregado e Ponto\n",
        "import pandas as pd\n",
        "\n",
        "employee = [\n",
        "    {\n",
        "        \"id\": 123,\n",
        "        \"name\": \"João\",\n",
        "        \"departament\": \"Financeiro\",\n",
        "        \"role\": \"Diretor\"\n",
        "    }\n",
        "]\n",
        "\n",
        "display(pd.DataFrame(employee))\n",
        "\n",
        "access_point = [\n",
        "    {\n",
        "        \"id\": 1,\n",
        "        \"employee_id\": 123,\n",
        "        \"day\": \"08-23-2022\",\n",
        "        \"time_in\":[\"08:00\",\"14:00\"],\n",
        "        \"time_out\": [\"12:00\",\"18:00\"]\n",
        "    }\n",
        "]\n",
        "\n",
        "display(pd.DataFrame(access_point))"
      ]
    },
    {
      "cell_type": "markdown",
      "source": [
        "## Acesso ao Banco\n",
        "\n",
        "Neste exemplo não utilizaremos banco de dados SQL, apenas uma interface que simula a utilização de um banco, armazenando os dados em vetores do próprio python. Apenas rode as próximas células para utilização dos métodos no modelo que farão a interface com a tebela empregado e ponto de acesso, respectivamente."
      ],
      "metadata": {
        "id": "4WKzR_3G3ur7"
      }
    },
    {
      "cell_type": "code",
      "source": [
        "employees = list() #Variável global onde nossos dados serão armazenados que corresponde a tabela Empregados no Banco\n",
        "\n",
        "#As duas próximas funções correspondem a função Create do CRUD\n",
        "\n",
        "def create_employees_BD(employees_list): #criar a partir de uma lista\n",
        "  global employees\n",
        "  employees = employees_list\n",
        "\n",
        "def create_employee_BD(id, name, departament, role): #criar apenas um item\n",
        "  global employees\n",
        "  employees.append({'id':id, 'name':name, 'departament':departament, 'role':role})\n",
        "\n",
        "#As duas próximas funções correspondem a função Read do CRUD\n",
        "\n",
        "def read_employee_BD(id): #ler apenas um empregado a partir do id\n",
        "  global employees\n",
        "  myitems = list(filter(lambda x:x['id'] == id, employees))\n",
        "  return myitems[0]\n",
        "\n",
        "def read_employees_BD(): #ler todos os empregados da lista\n",
        "  global employees\n",
        "  return [item for item in employees]\n",
        "\n",
        "#A próxima função corresponde a função UPDATE do CRUD\n",
        "\n",
        "def update_employee_BD(id, name, departament, role): #atualiza um determinado empregado pelo id\n",
        "  global employees\n",
        "  idxs_items = list(\n",
        "        filter(lambda i_x: i_x[1]['id'] == id, enumerate(employees)))\n",
        "  if idxs_items:\n",
        "        i, item_to_update = idxs_items[0][0], idxs_items[0][1]\n",
        "        employees[i] = {'id': id, 'name': name, 'departament': departament, 'role': role}\n",
        "  \n",
        "#A próxima função corresonde a função DELETE do CRUD\n",
        "\n",
        "def delete_employee_BD(sigla): #deleta um deterinado empregado pelo id\n",
        "  global employees\n",
        "  idxs_items = list(\n",
        "        filter(lambda i_x: i_x[1]['id'] == id, enumerate(employees)))\n",
        "  if idxs_items:\n",
        "        i, item_to_delete = idxs_items[0][0], idxs_items[0][1]\n",
        "        del employees[i]"
      ],
      "metadata": {
        "id": "XURmEYBG2Myw"
      },
      "execution_count": null,
      "outputs": []
    },
    {
      "cell_type": "code",
      "source": [
        "access_points = list() #Variável global onde nossos dados serão armazenados que corresponde a tabela Ponto de Acesso no Banco\n",
        "\n",
        "#As duas próximas funções correspondem a função Create do CRUD\n",
        "\n",
        "def create_access_points_BD(access_points_list): #criar a partir de uma lista\n",
        "  global access_points\n",
        "  access_points = access_points_list\n",
        "\n",
        "def create_access_point_BD(id, employee_id, day, time_in, time_out): #criar apenas um item\n",
        "  global access_points\n",
        "  access_points.append({'id':id, 'employee_id':employee_id, 'day':day, 'time_in':time_in, 'time_out': time_out})\n",
        "\n",
        "#As duas próximas funções correspondem a função Read do CRUD\n",
        "\n",
        "def read_access_point_BD(employee_id): #ler apenas um empregado a partir do employee_id\n",
        "  global access_points\n",
        "  myitems = list(filter(lambda x:x['employee_id'] == employee_id, access_points))\n",
        "  return myitems[0]\n",
        "\n",
        "def read_access_points_BD(): #ler todos os empregados da lista\n",
        "  global access_points\n",
        "  return [item for item in access_points]\n",
        " \n",
        "#A próxima função corresonde a função DELETE do CRUD\n",
        "\n",
        "def delete_access_point_BD(employee_id): #deleta um deterinado ponto de acesso pelo id do empregado\n",
        "  global access_points\n",
        "  idxs_items = list(\n",
        "        filter(lambda i_x: i_x[1]['employee_id'] == employee_id, enumerate(access_points)))\n",
        "  if idxs_items:\n",
        "        i, item_to_delete = idxs_items[0][0], idxs_items[0][1]\n",
        "        del access_points[i]"
      ],
      "metadata": {
        "id": "x4UdieoX6iAR"
      },
      "execution_count": null,
      "outputs": []
    },
    {
      "cell_type": "markdown",
      "source": [
        "##Implementação da Arquitetura\n",
        "\n",
        "Uma vez que o banco de dados pode ser acessado por meio da interface criada anteriormente, é possível agora criar a arquitetura MVC para a realização dos requisitos do sistema.\n"
      ],
      "metadata": {
        "id": "BEMae4GV8eWM"
      }
    },
    {
      "cell_type": "markdown",
      "source": [
        "# Modelo\n",
        "\n",
        "Inicie a estruturação da arquitetura pelo modelo. Primeiro, explique a função do modelo na arquitetura MVC:\n",
        "\n",
        "Resposta: \n",
        "\n",
        "Implemente as funções necessárias de acesso ao BD. O construtor já está pronto, assim como o método create_employees."
      ],
      "metadata": {
        "id": "GUIQN8ba-9XG"
      }
    },
    {
      "cell_type": "code",
      "source": [
        "class Model(object):\n",
        "\n",
        "    def __init__(self, employees):\n",
        "        self.create_employees(employees)\n",
        "    \n",
        "    def create_employees(self, employees):\n",
        "        create_employees_BD(employees);\n",
        "    \n",
        "    def read_employees(self):\n",
        "        return read_employees_BD()\n",
        "        \n"
      ],
      "metadata": {
        "id": "DFjx9NNo9DHw"
      },
      "execution_count": null,
      "outputs": []
    },
    {
      "cell_type": "markdown",
      "source": [
        "# View\n",
        "\n",
        "Explique a função da view na arquitetura MVC.\n",
        "\n",
        "Resposta:\n",
        "\n",
        "Implemente as funções necessárias que apresentam ao usuário as informações solicitas. O método display_employees já está implementado.\n"
      ],
      "metadata": {
        "id": "URCR7mzAAWFw"
      }
    },
    {
      "cell_type": "code",
      "source": [
        "class View(object):\n",
        "\n",
        "    @staticmethod\n",
        "    def display_employees(employees):\n",
        "        print('------------------------')\n",
        "        for employee in employees:\n",
        "            print('- ID : {}'.format(employee['id']))\n",
        "            print('- Name : {}'.format(employee['name']))\n",
        "            print('- Departament : {}'.format(employee['departament']))\n",
        "            print('- Role : {}'.format(employee['role']))\n",
        "            print('------------------------')"
      ],
      "metadata": {
        "id": "RBz8QmcWAtG0"
      },
      "execution_count": null,
      "outputs": []
    },
    {
      "cell_type": "markdown",
      "source": [
        "# Controller\n",
        "\n",
        "Explique a função do Controller na arquitetura MVC.\n",
        "\n",
        "Resposta:"
      ],
      "metadata": {
        "id": "6ccubfraBv7e"
      }
    },
    {
      "cell_type": "code",
      "source": [
        "class Controller(object):\n",
        "\n",
        "    def __init__(self, model, view):\n",
        "        self.model = model\n",
        "        self.view = view\n",
        "\n",
        "    def show_employess(self):\n",
        "        employess = self.model.read_employees()\n",
        "        self.view.display_employees(employess)\n",
        "        "
      ],
      "metadata": {
        "id": "oDpw7DcKBuLn"
      },
      "execution_count": null,
      "outputs": []
    },
    {
      "cell_type": "markdown",
      "source": [
        "# Rodando a Aplicação"
      ],
      "metadata": {
        "id": "saGeOlCwDUkR"
      }
    },
    {
      "cell_type": "code",
      "source": [
        "#Criando uma lista inicial\n",
        "employee = [\n",
        "    {\n",
        "        \"id\": 1,\n",
        "        \"name\": \"Maria\",\n",
        "        \"departament\": \"Financeiro\",\n",
        "        \"role\": \"Diretora\"\n",
        "    },\n",
        "    {\n",
        "        \"id\": 2,\n",
        "        \"name\": \"João\",\n",
        "        \"departament\": \"Gestão de Pessoa\",\n",
        "        \"role\": \"Secretário\"\n",
        "    }\n",
        "]\n",
        "\n",
        "\n",
        "#Definindo o controlador\n",
        "controlador = Controller(Model(employee), View()) "
      ],
      "metadata": {
        "id": "hgdneKAVDTIM"
      },
      "execution_count": null,
      "outputs": []
    },
    {
      "cell_type": "code",
      "source": [
        "# Visualizando todos os empregados\n",
        "\n",
        "controlador.show_employess()"
      ],
      "metadata": {
        "colab": {
          "base_uri": "https://localhost:8080/"
        },
        "id": "VHgXMNvBEIc7",
        "outputId": "c586afe4-6cf2-4b10-fdff-f1a6dc95dda0"
      },
      "execution_count": null,
      "outputs": [
        {
          "output_type": "stream",
          "name": "stdout",
          "text": [
            "------------------------\n",
            "- ID : 1\n",
            "- Name : Maria\n",
            "- Departament : Financeiro\n",
            "- Role : Diretora\n",
            "------------------------\n",
            "- ID : 2\n",
            "- Name : João\n",
            "- Departament : Gestão de Pessoa\n",
            "- Role : Secretário\n",
            "------------------------\n"
          ]
        }
      ]
    },
    {
      "cell_type": "markdown",
      "source": [
        "#Atividades\n",
        "\n",
        "- Criar os outros métodos necessários para realização dos requisitos (Apresentar empregado por id, deletar empregado, atualizar empregado, etc). Basta alterar as células anteriores e executa-las novamente. - 80 Pontos\n",
        "- Criar o acesso a tabela de acesso de ponto, inserindo um novo horário de entrada ou saída sempre que a função checkPoint(id_employee, time) for chamado. - 20 Pontos "
      ],
      "metadata": {
        "id": "mFLXnLiWTkwv"
      }
    },
    {
      "cell_type": "code",
      "source": [],
      "metadata": {
        "id": "RfvRBUIATnoT"
      },
      "execution_count": null,
      "outputs": []
    }
  ]
}